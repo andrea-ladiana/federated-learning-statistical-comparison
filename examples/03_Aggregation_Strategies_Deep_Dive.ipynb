{
 "cells": [
  {
   "cell_type": "markdown",
   "id": "17324798",
   "metadata": {},
   "source": [
    "# 03: Aggregation Strategies Deep Dive\n",
    "\n",
    "This notebook provides a concise overview of the main aggregation strategies available in our federated learning framework."
   ]
  },
  {
   "cell_type": "markdown",
   "id": "89f63b15",
   "metadata": {},
   "source": [
    "## Setup and Imports"
   ]
  },
  {
   "cell_type": "code",
   "execution_count": null,
   "id": "df0cbb4b",
   "metadata": {},
   "outputs": [],
   "source": [
    "import sys\n",
    "sys.path.append('..')\n",
    "\n",
    "from core.strategies import create_strategy\n",
    "import numpy as np\n",
    "import torch\n",
    "import flwr as fl"
   ]
  },
  {
   "cell_type": "markdown",
   "id": "f1194750",
   "metadata": {},
   "source": [
    "## Strategy Categories\n",
    "\n",
    "Our framework supports three main strategy categories:\n",
    "\n",
    "### 1. Basic Strategies\n",
    "- **FedAvg**: Standard weighted averaging\n",
    "- **FedAvgM**: FedAvg with server momentum\n",
    "- **FedAdam**: Adaptive optimization\n",
    "\n",
    "### 2. Robust Strategies (Byzantine-tolerant)\n",
    "- **Krum**: Select most trustworthy client\n",
    "- **TrimmedMean**: Remove outliers before averaging\n",
    "- **Bulyan**: Multi-Krum with trimmed mean\n",
    "\n",
    "### 3. Advanced Strategies\n",
    "- **SCAFFOLD**: Variance reduction\n",
    "- **FedProx**: Proximal term regularization\n",
    "- **FedNova**: Normalized averaging"
   ]
  },
  {
   "cell_type": "markdown",
   "id": "aff0dfdd",
   "metadata": {},
   "source": [
    "## Creating Strategies"
   ]
  },
  {
   "cell_type": "code",
   "execution_count": null,
   "id": "3a929987",
   "metadata": {},
   "outputs": [],
   "source": [
    "# Basic FedAvg strategy\n",
    "fedavg_strategy = create_strategy('fedavg')\n",
    "print(f\"FedAvg strategy: {type(fedavg_strategy).__name__}\")\n",
    "\n",
    "# Robust Krum strategy\n",
    "krum_strategy = create_strategy('krum', num_malicious_clients=2)\n",
    "print(f\"Krum strategy: {type(krum_strategy).__name__}\")\n",
    "\n",
    "# Advanced SCAFFOLD strategy\n",
    "scaffold_strategy = create_strategy('scaffold')\n",
    "print(f\"SCAFFOLD strategy: {type(scaffold_strategy).__name__}\")"
   ]
  },
  {
   "cell_type": "markdown",
   "id": "d1b1e2d8",
   "metadata": {},
   "source": [
    "## Strategy Use Cases\n",
    "\n",
    "| Strategy | Best For | Key Parameters |\n",
    "|----------|----------|----------------|\n",
    "| FedAvg | Standard FL scenarios | `fraction_fit`, `fraction_evaluate` |\n",
    "| Krum | Byzantine attacks | `num_malicious_clients` |\n",
    "| TrimmedMean | Outlier handling | `beta` (trimming fraction) |\n",
    "| SCAFFOLD | Non-IID data | None (automatic) |\n",
    "| FedProx | System heterogeneity | `proximal_mu` |\n",
    "| FedNova | Variable local steps | None (automatic) |"
   ]
  },
  {
   "cell_type": "markdown",
   "id": "27cbc0ab",
   "metadata": {},
   "source": [
    "## Quick Experiment Comparison"
   ]
  },
  {
   "cell_type": "code",
   "execution_count": null,
   "id": "7a669491",
   "metadata": {},
   "outputs": [],
   "source": [
    "# Compare different strategies on the same setup\n",
    "strategies_to_test = ['fedavg', 'fedprox', 'scaffold']\n",
    "\n",
    "for strategy_name in strategies_to_test:\n",
    "    strategy = create_strategy(strategy_name)\n",
    "    print(f\"\\n{strategy_name.upper()}:\")\n",
    "    print(f\"  Type: {type(strategy).__name__}\")\n",
    "    print(f\"  Description: {strategy.__doc__.split('.')[0] if strategy.__doc__ else 'No description'}\")"
   ]
  },
  {
   "cell_type": "markdown",
   "id": "2e26c7bd",
   "metadata": {},
   "source": [
    "## Configuration Examples"
   ]
  },
  {
   "cell_type": "code",
   "execution_count": null,
   "id": "941b8c20",
   "metadata": {},
   "outputs": [],
   "source": [
    "# Example configurations for different scenarios\n",
    "\n",
    "# Scenario 1: Standard FL with good network\n",
    "config_standard = {\n",
    "    'strategy': 'fedavg',\n",
    "    'fraction_fit': 0.3,\n",
    "    'fraction_evaluate': 0.1\n",
    "}\n",
    "\n",
    "# Scenario 2: Adversarial environment\n",
    "config_adversarial = {\n",
    "    'strategy': 'krum',\n",
    "    'num_malicious_clients': 2,\n",
    "    'fraction_fit': 0.5\n",
    "}\n",
    "\n",
    "# Scenario 3: Non-IID data\n",
    "config_noniid = {\n",
    "    'strategy': 'scaffold',\n",
    "    'fraction_fit': 0.4\n",
    "}\n",
    "\n",
    "print(\"Configuration examples created successfully!\")"
   ]
  },
  {
   "cell_type": "markdown",
   "id": "beb8459f",
   "metadata": {},
   "source": [
    "## Next Steps\n",
    "\n",
    "- See `02_Basic_Federated_Learning_Experiment.ipynb` for running experiments\n",
    "- Check the `attacks/` folder for adversarial scenarios\n",
    "- Use `run_extensive_experiments.py` for comprehensive comparisons\n",
    "\n",
    "**Key Takeaway**: Choose your aggregation strategy based on your specific FL scenario - standard FedAvg for typical cases, robust strategies for adversarial environments, and advanced strategies for challenging data distributions."
   ]
  }
 ],
 "metadata": {
  "language_info": {
   "name": "python"
  }
 },
 "nbformat": 4,
 "nbformat_minor": 5
}
