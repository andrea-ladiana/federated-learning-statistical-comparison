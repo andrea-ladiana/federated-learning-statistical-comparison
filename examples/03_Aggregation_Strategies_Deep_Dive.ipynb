{
 "cells": [
  {
   "cell_type": "markdown",
   "id": "dc4661e9",
   "metadata": {},
   "source": [
    "# 03 - Aggregation Strategies Overview\n",
    "\n",
    "This notebook provides a concise guide to the main aggregation strategies in the federated learning framework.\n",
    "\n",
    "## What You'll Learn\n",
    "- Key aggregation strategies and their purposes\n",
    "- How to configure and use different strategies\n",
    "- Performance comparison and selection guide\n",
    "- Best practices for production use"
   ]
  },
  {
   "cell_type": "markdown",
   "id": "982593fb",
   "metadata": {},
   "source": [
    "## 1. Setup and Imports"
   ]
  },
  {
   "cell_type": "code",
   "execution_count": null,
   "id": "0397f734",
   "metadata": {},
   "outputs": [],
   "source": [
    "import sys\n",
    "sys.path.append('..')\n",
    "\n",
    "from core.strategies import create_strategy\n",
    "import numpy as np\n",
    "import torch\n",
    "import flwr as fl\n",
    "import matplotlib.pyplot as plt"
   ]
  },
  {
   "cell_type": "markdown",
   "id": "8d167d70",
   "metadata": {},
   "source": [
    "## 2. Strategy Categories\n",
    "\n",
    "The framework supports three main categories of aggregation strategies:"
   ]
  },
  {
   "cell_type": "code",
   "execution_count": null,
   "id": "94ac9bdc",
   "metadata": {},
   "outputs": [],
   "source": [
    "# Strategy overview\n",
    "strategies = {\n",
    "    'Basic Strategies': {\n",
    "        'FedAvg': 'Standard weighted averaging - most common',\n",
    "        'FedAvgM': 'FedAvg with server momentum',\n",
    "        'FedAdam': 'Adaptive optimization with Adam'\n",
    "    },\n",
    "    'Robust Strategies': {\n",
    "        'Krum': 'Byzantine-tolerant, selects trustworthy updates',\n",
    "        'TrimmedMean': 'Removes outliers before averaging',\n",
    "        'Bulyan': 'Multi-Krum with additional robustness'\n",
    "    },\n",
    "    'Advanced Strategies': {\n",
    "        'SCAFFOLD': 'Variance reduction for non-IID data',\n",
    "        'FedProx': 'Proximal regularization for heterogeneity',\n",
    "        'FedNova': 'Normalized averaging for unequal local steps'\n",
    "    }\n",
    "}\n",
    "\n",
    "for category, strats in strategies.items():\n",
    "    print(f\"\\n{category.upper()}:\")\n",
    "    for name, desc in strats.items():\n",
    "        print(f\"  • {name}: {desc}\")"
   ]
  },
  {
   "cell_type": "markdown",
   "id": "b582005e",
   "metadata": {},
   "source": [
    "## 3. Creating and Configuring Strategies"
   ]
  },
  {
   "cell_type": "code",
   "execution_count": null,
   "id": "ba47c89b",
   "metadata": {},
   "outputs": [],
   "source": [
    "# Basic FedAvg - most common choice\n",
    "fedavg_strategy = create_strategy('fedavg')\n",
    "print(f\"FedAvg: {type(fedavg_strategy).__name__}\")\n",
    "\n",
    "# Robust Krum for adversarial environments\n",
    "krum_strategy = create_strategy('krum', num_malicious_clients=2)\n",
    "print(f\"Krum: {type(krum_strategy).__name__}\")\n",
    "\n",
    "# FedProx for heterogeneous clients\n",
    "fedprox_strategy = create_strategy('fedprox', proximal_mu=0.1)\n",
    "print(f\"FedProx: {type(fedprox_strategy).__name__}\")\n",
    "\n",
    "print(\"\\n✅ Strategies created successfully!\")"
   ]
  },
  {
   "cell_type": "markdown",
   "id": "221f4907",
   "metadata": {},
   "source": [
    "## 4. Strategy Comparison Simulation\n",
    "\n",
    "Compare strategies under different conditions:"
   ]
  },
  {
   "cell_type": "code",
   "execution_count": null,
   "id": "60b461da",
   "metadata": {},
   "outputs": [],
   "source": [
    "# Simulate strategy performance under different conditions\n",
    "def simulate_strategy_performance(strategy_name, condition):\n",
    "    \"\"\"Simulate how strategies perform under different conditions.\"\"\"\n",
    "    \n",
    "    # Base performance values (simulated)\n",
    "    base_performance = {\n",
    "        'FedAvg': {'iid': 0.92, 'non_iid': 0.78, 'byzantine': 0.45},\n",
    "        'FedProx': {'iid': 0.90, 'non_iid': 0.85, 'byzantine': 0.50},\n",
    "        'Krum': {'iid': 0.88, 'non_iid': 0.75, 'byzantine': 0.80},\n",
    "        'TrimmedMean': {'iid': 0.89, 'non_iid': 0.77, 'byzantine': 0.82},\n",
    "        'SCAFFOLD': {'iid': 0.93, 'non_iid': 0.88, 'byzantine': 0.48}\n",
    "    }\n",
    "    \n",
    "    return base_performance.get(strategy_name, {}).get(condition, 0.0)\n",
    "\n",
    "# Test strategies under different conditions\n",
    "test_strategies = ['FedAvg', 'FedProx', 'Krum', 'TrimmedMean', 'SCAFFOLD']\n",
    "conditions = ['iid', 'non_iid', 'byzantine']\n",
    "\n",
    "results = {}\n",
    "for condition in conditions:\n",
    "    results[condition] = []\n",
    "    for strategy in test_strategies:\n",
    "        perf = simulate_strategy_performance(strategy, condition)\n",
    "        results[condition].append(perf)\n",
    "\n",
    "print(\"Strategy Performance Comparison:\")\n",
    "print(\"=\" * 45)\n",
    "print(f\"{'Strategy':<12} {'IID':<8} {'Non-IID':<8} {'Byzantine':<10}\")\n",
    "print(\"-\" * 45)\n",
    "for i, strategy in enumerate(test_strategies):\n",
    "    print(f\"{strategy:<12} {results['iid'][i]:<8.2f} {results['non_iid'][i]:<8.2f} {results['byzantine'][i]:<10.2f}\")"
   ]
  },
  {
   "cell_type": "markdown",
   "id": "65ae0d66",
   "metadata": {},
   "source": [
    "## 5. Visual Comparison"
   ]
  },
  {
   "cell_type": "code",
   "execution_count": null,
   "id": "2a36ff1d",
   "metadata": {},
   "outputs": [],
   "source": [
    "# Create performance comparison chart\n",
    "fig, axes = plt.subplots(1, 3, figsize=(15, 5))\n",
    "fig.suptitle('Strategy Performance Under Different Conditions', fontsize=16)\n",
    "\n",
    "for i, condition in enumerate(conditions):\n",
    "    ax = axes[i]\n",
    "    colors = ['blue', 'green', 'red', 'orange', 'purple']\n",
    "    \n",
    "    bars = ax.bar(test_strategies, results[condition], color=colors, alpha=0.7)\n",
    "    ax.set_title(f'{condition.upper()} Data')\n",
    "    ax.set_ylabel('Accuracy')\n",
    "    ax.set_ylim(0, 1.0)\n",
    "    ax.tick_params(axis='x', rotation=45)\n",
    "    ax.grid(True, alpha=0.3)\n",
    "    \n",
    "    # Add value labels on bars\n",
    "    for bar, value in zip(bars, results[condition]):\n",
    "        ax.text(bar.get_x() + bar.get_width()/2, bar.get_height() + 0.01,\n",
    "                f'{value:.2f}', ha='center', va='bottom', fontsize=9)\n",
    "\n",
    "plt.tight_layout()\n",
    "plt.show()"
   ]
  },
  {
   "cell_type": "markdown",
   "id": "1da5e0a0",
   "metadata": {},
   "source": [
    "## 6. Strategy Selection Guide"
   ]
  },
  {
   "cell_type": "code",
   "execution_count": null,
   "id": "b59047ae",
   "metadata": {},
   "outputs": [],
   "source": [
    "# Strategy selection decision tree\n",
    "def recommend_strategy(data_distribution, has_malicious_clients, client_heterogeneity):\n",
    "    \"\"\"\n",
    "    Recommend the best strategy based on environment characteristics.\n",
    "    \n",
    "    Args:\n",
    "        data_distribution: 'iid' or 'non_iid'\n",
    "        has_malicious_clients: True/False\n",
    "        client_heterogeneity: 'low', 'medium', 'high'\n",
    "    \"\"\"\n",
    "    \n",
    "    if has_malicious_clients:\n",
    "        return 'Krum or TrimmedMean (Byzantine tolerance needed)'\n",
    "    elif data_distribution == 'non_iid' and client_heterogeneity == 'high':\n",
    "        return 'SCAFFOLD or FedProx (handles non-IID + heterogeneity)'\n",
    "    elif data_distribution == 'non_iid':\n",
    "        return 'FedProx or SCAFFOLD (non-IID data)'\n",
    "    elif client_heterogeneity == 'high':\n",
    "        return 'FedProx (client heterogeneity)'\n",
    "    else:\n",
    "        return 'FedAvg (standard choice for IID data)'\n",
    "\n",
    "# Test different scenarios\n",
    "scenarios = [\n",
    "    ('iid', False, 'low'),\n",
    "    ('non_iid', False, 'medium'),\n",
    "    ('iid', True, 'low'),\n",
    "    ('non_iid', True, 'high'),\n",
    "    ('non_iid', False, 'high')\n",
    "]\n",
    "\n",
    "print(\"STRATEGY SELECTION GUIDE:\")\n",
    "print(\"=\" * 50)\n",
    "\n",
    "for i, (dist, malicious, hetero) in enumerate(scenarios, 1):\n",
    "    recommendation = recommend_strategy(dist, malicious, hetero)\n",
    "    print(f\"\\nScenario {i}:\")\n",
    "    print(f\"  Data: {dist.upper()}\")\n",
    "    print(f\"  Malicious clients: {'Yes' if malicious else 'No'}\")\n",
    "    print(f\"  Client heterogeneity: {hetero.upper()}\")\n",
    "    print(f\"  → Recommended: {recommendation}\")"
   ]
  },
  {
   "cell_type": "markdown",
   "id": "0ca28cd4",
   "metadata": {},
   "source": [
    "## 7. Key Strategy Parameters"
   ]
  },
  {
   "cell_type": "code",
   "execution_count": null,
   "id": "e6bc6f25",
   "metadata": {},
   "outputs": [],
   "source": [
    "# Important parameters for each strategy\n",
    "strategy_params = {\n",
    "    'FedAvg': {\n",
    "        'min_fit_clients': 'Minimum clients for training',\n",
    "        'min_eval_clients': 'Minimum clients for evaluation',\n",
    "        'fraction_fit': 'Fraction of clients to use per round'\n",
    "    },\n",
    "    'FedProx': {\n",
    "        'proximal_mu': 'Proximal term strength (0.01-1.0)',\n",
    "        'all FedAvg params': 'Plus standard FedAvg parameters'\n",
    "    },\n",
    "    'Krum': {\n",
    "        'num_malicious_clients': 'Expected number of malicious clients',\n",
    "        'to_keep': 'Number of clients to select'\n",
    "    },\n",
    "    'TrimmedMean': {\n",
    "        'beta': 'Fraction of outliers to remove (0.1-0.3)'\n",
    "    },\n",
    "    'SCAFFOLD': {\n",
    "        'all FedAvg params': 'Standard parameters',\n",
    "        'Note': 'Requires client-side control variates'\n",
    "    }\n",
    "}\n",
    "\n",
    "print(\"KEY PARAMETERS BY STRATEGY:\")\n",
    "print(\"=\" * 40)\n",
    "\n",
    "for strategy, params in strategy_params.items():\n",
    "    print(f\"\\n{strategy.upper()}:\")\n",
    "    for param, desc in params.items():\n",
    "        print(f\"  • {param}: {desc}\")"
   ]
  },
  {
   "cell_type": "markdown",
   "id": "7c0e684d",
   "metadata": {},
   "source": [
    "## 8. Running Experiments with Different Strategies\n",
    "\n",
    "Example of how to run experiments comparing strategies:"
   ]
  },
  {
   "cell_type": "code",
   "execution_count": null,
   "id": "c9017407",
   "metadata": {},
   "outputs": [],
   "source": [
    "# Example experiment configuration\n",
    "experiment_config = {\n",
    "    'dataset': 'MNIST',\n",
    "    'num_clients': 10,\n",
    "    'num_rounds': 20,\n",
    "    'strategies_to_compare': ['FedAvg', 'FedProx', 'Krum']\n",
    "}\n",
    "\n",
    "print(\"To run strategy comparison experiments:\")\n",
    "print(\"\")\n",
    "print(\"from experiment_runners.enhanced_experiment_runner import main\")\n",
    "print(\"\")\n",
    "print(\"# Configure strategies to compare\")\n",
    "print(\"strategies = ['FedAvg', 'FedProx', 'Krum']\")\n",
    "print(\"\")\n",
    "print(\"# Run comparison\")\n",
    "print(\"for strategy in strategies:\")\n",
    "print(\"    config = {\")\n",
    "for key, value in experiment_config.items():\n",
    "    if key != 'strategies_to_compare':\n",
    "        print(f\"        '{key}': {repr(value)},\")\n",
    "print(\"        'strategy': strategy\")\n",
    "print(\"    }\")\n",
    "print(\"    # results = main(config)\")\n",
    "print(\"\")\n",
    "print(\"⚠️  Real experiments may take significant time to complete.\")"
   ]
  },
  {
   "cell_type": "markdown",
   "id": "aaa46206",
   "metadata": {},
   "source": [
    "## Summary\n",
    "\n",
    "This notebook covered the essential aggregation strategies:\n",
    "\n",
    "✅ **Basic Strategies**: FedAvg for standard scenarios, FedAvgM and FedAdam for enhanced optimization\n",
    "\n",
    "✅ **Robust Strategies**: Krum, TrimmedMean, and Bulyan for Byzantine-tolerant aggregation\n",
    "\n",
    "✅ **Advanced Strategies**: SCAFFOLD for non-IID data, FedProx for heterogeneous clients, FedNova for unequal local updates\n",
    "\n",
    "✅ **Selection Guide**: How to choose the right strategy based on your environment\n",
    "\n",
    "### Quick Decision Guide:\n",
    "- **Standard case**: Use FedAvg\n",
    "- **Non-IID data**: Use FedProx or SCAFFOLD\n",
    "- **Malicious clients**: Use Krum or TrimmedMean\n",
    "- **Heterogeneous clients**: Use FedProx\n",
    "- **Research/comparison**: Test multiple strategies\n",
    "\n",
    "### Next Steps:\n",
    "- Run comparative experiments with your specific dataset\n",
    "- Tune hyperparameters for optimal performance\n",
    "- Consider combining strategies with attack scenarios (see notebook 04)"
   ]
  }
 ],
 "metadata": {
  "language_info": {
   "name": "python"
  }
 },
 "nbformat": 4,
 "nbformat_minor": 5
}
